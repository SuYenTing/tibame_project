{
 "cells": [
  {
   "cell_type": "markdown",
   "id": "008b7f0c",
   "metadata": {},
   "source": [
    "# 機器學習程式碼"
   ]
  },
  {
   "cell_type": "code",
   "execution_count": null,
   "id": "823b7426",
   "metadata": {},
   "outputs": [],
   "source": [
    "# 整理機器學習特徵資料\n",
    "# 2021/04/29 蘇彥庭\n",
    "import json\n",
    "import pandas as pd\n",
    "import numpy as np\n",
    "from sqlalchemy import create_engine\n",
    "\n",
    "from imblearn.over_sampling import RandomOverSampler \n",
    "from sklearn import preprocessing\n",
    "from sklearn.model_selection import GridSearchCV\n",
    "from sklearn.metrics import mean_squared_error\n",
    "from sklearn.metrics import accuracy_score\n",
    "import xgboost\n",
    "\n",
    "import plotly.express as px\n",
    "import seaborn as sns\n",
    "from matplotlib import pyplot as plt\n",
    "from pprint import pprint\n",
    "\n",
    "import shap\n",
    "shap.initjs()\n",
    "\n",
    "import xgboost as xgb\n",
    "\n",
    "# 設定pandas呈現表格時所有欄位都要呈現出來\n",
    "pd.set_option('display.max_columns', None)\n",
    "\n",
    "# 設定中文字體\n",
    "plt.rcParams['font.sans-serif'] = ['Microsoft JhengHei'] \n",
    "plt.rcParams['axes.unicode_minus'] = False"
   ]
  },
  {
   "cell_type": "code",
   "execution_count": null,
   "id": "8d73b90d",
   "metadata": {},
   "outputs": [],
   "source": [
    "# 建立連線函數\n",
    "def CreateDBEngine(secretFileName='dbSecret.json'):\n",
    "    secretFile = json.load(open(secretFileName, 'r'))\n",
    "    host = secretFile['host']\n",
    "    username = secretFile['user']\n",
    "    password = secretFile['password']\n",
    "    port = secretFile['port']\n",
    "    database = secretFile['dbName']\n",
    "    return create_engine(f'mysql+mysqlconnector://{username}:{password}@{host}:{port}/{database}', echo=False)"
   ]
  },
  {
   "cell_type": "markdown",
   "id": "102630f4",
   "metadata": {},
   "source": [
    "# 整理SEGIS資料"
   ]
  },
  {
   "cell_type": "code",
   "execution_count": null,
   "id": "bfa7e5d2",
   "metadata": {},
   "outputs": [],
   "source": [
    "# 查詢內政部大數據鄉鎮市區資料指令\n",
    "sqlQuery = '''\n",
    "select\n",
    "convert(replace(INFO_TIME, 'Y', ''), unsigned) as year,  # 年度\n",
    "COUNTY_ID as county_id,  # 縣市代碼\n",
    "COUNTY as county,  # 縣市名稱\n",
    "TOWN_ID as town_id,  # 鄉鎮市區代碼\n",
    "TOWN as town,  # 鄉鎮市區名稱\n",
    "\n",
    "# 人口結構\n",
    "sum(COLUMN2) as population,  # 人口數\n",
    "sum(COLUMN52) as births_nums,  # 出生人口數\n",
    "sum(COLUMN59) as deaths_nums,  # 死亡人口數\n",
    "sum(COLUMN66) as immigration_nums,  # 遷入人口數\n",
    "sum(COLUMN67) as migration_nums,  # 遷出人口數\n",
    "round(sum(COLUMN52)/sum(COLUMN2)*1000, 4) as birth_rate,  # 粗出生率=出生人口數/人口數\n",
    "round(sum(COLUMN59)/sum(COLUMN2)*1000, 4) as death_rate,  # 粗死亡率=死亡人口數/人口數\n",
    "round((sum(COLUMN66)-sum(COLUMN68))/sum(COLUMN2)*1000, 4) as immigration_rate,  # 遷入率=(遷入人口數-鄉鎮區內住址變更之遷出人口數)/人口數\n",
    "round((sum(COLUMN67)-sum(COLUMN69))/sum(COLUMN2)*1000, 4) as migration_rate,  # 遷出率=(遷出人口數-鄉鎮區內住址變更之遷出人口數)/人口數\n",
    "round(sum(COLUMN52-COLUMN59)/sum(COLUMN2)*1000, 4) as nature_increase_rate,  # 自然增加率=(出生人口數-死亡人口數)/人口數\n",
    "round(sum(COLUMN66-COLUMN67)/sum(COLUMN2)*1000, 4) as social_increase_rate,  # 社會增加率=(遷入人口數-遷出人口數)/人口數\n",
    "round(sum(COLUMN33)/sum(COLUMN2)*100, 4) as toddler_population,  # 幼年人口佔比\n",
    "round(sum(COLUMN34)/sum(COLUMN2)*100, 4) as worker_population,  # 青壯年人口佔比\n",
    "round(sum(COLUMN35)/sum(COLUMN2)*100, 4) as elderly_population,  # 老年人口佔比\n",
    "round(sum(COLUMN82)/sum(COLUMN2)*100, 4) as aboriginal_population_ratio,  # 原住民人口比率\n",
    "round(sum(COLUMN33)/sum(COLUMN34)*100, 4) as child_dependency_ratio,  # 扶幼比\n",
    "round(sum(COLUMN35)/sum(COLUMN34)*100, 4) as old_age_dependency_ratio,  # 扶老比\n",
    "\n",
    "# 婚育概況\n",
    "sum(COLUMN60) as married_pairs,  # 結婚對數\n",
    "round(sum(COLUMN60)/sum(COLUMN2)*1000, 2) as married_rate,  # 粗結婚率\n",
    "sum(COLUMN62) as divorce_pairs,  # 離婚對數\n",
    "round(sum(COLUMN62)/sum(COLUMN2)*1000, 2) as divorce_rate,  # 粗離婚率(‰)(千分比)\n",
    "\n",
    "# 托育教保\n",
    "sum(COLUMN108+COLUMN109+COLUMN110) as age_0_2_population,  # 0-2歲學齡人口數\n",
    "sum(COLUMN111+COLUMN112+COLUMN113+COLUMN114) as age_3_6_population  # 3-6學齡人口數\n",
    "\n",
    "from project.demographic\n",
    "group by info_time, county_id, county, town_id, town\n",
    "order by COUNTY_ID, TOWN_ID, info_time;\n",
    "'''\n",
    "\n",
    "# 取得資料\n",
    "segisData = pd.read_sql(sql=sqlQuery, con=CreateDBEngine())\n",
    "segisData.head(10)"
   ]
  },
  {
   "cell_type": "code",
   "execution_count": null,
   "id": "553c193b",
   "metadata": {},
   "outputs": [],
   "source": [
    "# 為能夠對應其他來源資料 鄉鎮市區代碼若只有7碼 則第一碼補0\n",
    "# 此為108年內政大數據資料應用組競賽用資料集_村里資料問題\n",
    "reviseIdx = segisData['town_id'].str.len() == 7\n",
    "segisData.loc[reviseIdx, 'town_id'] = '0' + segisData.loc[reviseIdx, 'town_id']"
   ]
  },
  {
   "cell_type": "code",
   "execution_count": null,
   "id": "45bb871a",
   "metadata": {},
   "outputs": [],
   "source": [
    "# 判斷是否有缺值資料\n",
    "segisData[segisData.isnull().any(axis=1)]"
   ]
  },
  {
   "cell_type": "code",
   "execution_count": null,
   "id": "ddc983a0",
   "metadata": {},
   "outputs": [],
   "source": [
    "# 針對缺值資料補0\n",
    "segisData = segisData.fillna(0)"
   ]
  },
  {
   "cell_type": "code",
   "execution_count": null,
   "id": "9b60eb86",
   "metadata": {},
   "outputs": [],
   "source": [
    "# 確認是否有補齊\n",
    "segisData[segisData.isnull().any(axis=1)]"
   ]
  },
  {
   "cell_type": "code",
   "execution_count": null,
   "id": "9b86cb8f",
   "metadata": {},
   "outputs": [],
   "source": [
    "tempData = segisData[segisData['year'] == 108]\n",
    "tempData.to_csv('segis_data.csv', encoding='utf-8-sig')"
   ]
  },
  {
   "cell_type": "code",
   "execution_count": null,
   "id": "d9c68c2b",
   "metadata": {},
   "outputs": [],
   "source": [
    "# 建立特徵資料集\n",
    "featureData = segisData[['year', 'town_id', 'county', 'town', \n",
    "                         'birth_rate',  # 出生率\n",
    "                         'death_rate',  # 死亡率\n",
    "                         'immigration_rate',  # 遷入率\n",
    "                         'migration_rate',  # 遷出率\n",
    "                         #'toddler_population',  # 幼年人口佔比\n",
    "                         #'worker_population',  # 青壯年人口佔比\n",
    "                         #'elderly_population',  # 老年人口佔比(拿掉避免共線性)\n",
    "                         #'aboriginal_population_ratio',  # 原住民人口比率\n",
    "                         'married_rate',  # 結婚率\n",
    "                         'divorce_rate',  # 離婚率\n",
    "                         'child_dependency_ratio',  # 扶幼比\n",
    "                         'old_age_dependency_ratio'  # 扶老比\n",
    "                        ]]\n",
    "featureData"
   ]
  },
  {
   "cell_type": "markdown",
   "id": "80686799",
   "metadata": {},
   "source": [
    "# 整理人口密度資料"
   ]
  },
  {
   "cell_type": "code",
   "execution_count": null,
   "id": "b646479a",
   "metadata": {},
   "outputs": [],
   "source": [
    "sqlQuery = '''\n",
    "select convert(replace(info_time, 'Y', ''), unsigned) as year, county, town, sum(population)/sum(land_area) as density\n",
    "from(\n",
    "select info_time, county_id, county, town_id, town, \n",
    "COLUMN2 as population, COLUMN2/COLUMN7 as land_area from project.demographic) as t\n",
    "group by info_time, county_id, county, town_id, town;\n",
    "'''\n",
    "\n",
    "# 取得資料\n",
    "densityData = pd.read_sql(sql=sqlQuery, con=CreateDBEngine())\n",
    "densityData"
   ]
  },
  {
   "cell_type": "code",
   "execution_count": null,
   "id": "7e5a772a",
   "metadata": {},
   "outputs": [],
   "source": [
    "# 判斷是否有缺值資料\n",
    "densityData[densityData.isnull().any(axis=1)]"
   ]
  },
  {
   "cell_type": "code",
   "execution_count": null,
   "id": "48a23739",
   "metadata": {},
   "outputs": [],
   "source": [
    "# 將失業率併入特徵資料集\n",
    "featureData = pd.merge(featureData,\n",
    "                       densityData,\n",
    "                       how='left',\n",
    "                       on=['year', 'county', 'town'])\n",
    "featureData.info()"
   ]
  },
  {
   "cell_type": "markdown",
   "id": "12011dcb",
   "metadata": {},
   "source": [
    "# 整理可支配所得資料"
   ]
  },
  {
   "cell_type": "code",
   "execution_count": null,
   "id": "ca300940",
   "metadata": {},
   "outputs": [],
   "source": [
    "# 查詢可支配所得資料\n",
    "sqlQuery = '''\n",
    "select \n",
    "year,  # 年份\n",
    "county,  # 縣市\n",
    "disposable_income_median  # 家戶可支配所得中位數\n",
    "from project.family_income_exp\n",
    "where county != '總平均';\n",
    "'''\n",
    "\n",
    "# 取得資料\n",
    "disposableIncomeData = pd.read_sql(sql=sqlQuery, con=CreateDBEngine())\n",
    "disposableIncomeData"
   ]
  },
  {
   "cell_type": "code",
   "execution_count": null,
   "id": "faf0c74f",
   "metadata": {},
   "outputs": [],
   "source": [
    "# 判斷是否有缺值資料\n",
    "disposableIncomeData[disposableIncomeData.isnull().any(axis=1)]"
   ]
  },
  {
   "cell_type": "code",
   "execution_count": null,
   "id": "beba0e7f",
   "metadata": {},
   "outputs": [],
   "source": [
    "# 將可支配所得中位數併入特徵資料集\n",
    "featureData = pd.merge(featureData,\n",
    "                       disposableIncomeData,\n",
    "                       how='left',\n",
    "                       on=['year', 'county'])\n",
    "featureData.info()"
   ]
  },
  {
   "cell_type": "markdown",
   "id": "c301af27",
   "metadata": {},
   "source": [
    "# 整理不動產實價登錄資料"
   ]
  },
  {
   "cell_type": "code",
   "execution_count": null,
   "id": "65a399f4",
   "metadata": {},
   "outputs": [],
   "source": [
    "# # 查詢不動產實價登錄資料\n",
    "# sqlQuery = '''\n",
    "# select \n",
    "# city as county,  # 縣市\n",
    "# township as town,  # 鄉鎮市區\n",
    "# convert(substr(transaction_day, 1, 3), unsigned) as year,\n",
    "# total_price as price\n",
    "# from project.real_price_immovables\n",
    "# where transaction_sign in ('房地(土地+建物)', '房地(土地+建物)+車位');\n",
    "# '''\n",
    "\n",
    "# # 取得資料\n",
    "# housePriceData = pd.read_sql(sql=sqlQuery, con=CreateDBEngine())\n",
    "# housePriceData"
   ]
  },
  {
   "cell_type": "code",
   "execution_count": null,
   "id": "e9ff227a",
   "metadata": {},
   "outputs": [],
   "source": [
    "# # 校正資料\n",
    "# housePriceData.loc[housePriceData['town']=='台東市', 'town'] = '臺東市'\n",
    "# housePriceData.loc[housePriceData['town']=='屏東巿', 'town'] = '屏東市'  # 看起來一樣但實際不一樣\n",
    "# housePriceData.loc[housePriceData['town']=='fa72埔鄉', 'town'] = '鹽埔鄉'\n",
    "# housePriceData.loc[housePriceData['town']=='霧台鄉', 'town'] = '霧臺鄉'\n",
    "# housePriceData.loc[housePriceData['town']=='頭份巿', 'town'] = '頭份市'  # 看起來一樣但實際不一樣\n",
    "# housePriceData.loc[housePriceData['town']=='台西鄉', 'town'] = '臺西鄉'"
   ]
  },
  {
   "cell_type": "code",
   "execution_count": null,
   "id": "b94c1a37",
   "metadata": {},
   "outputs": [],
   "source": [
    "# # 判斷是否有缺值資料\n",
    "# # housePriceData[housePriceData.isnull().any(axis=1)]\n",
    "# housePriceData[housePriceData.drop('town', axis=1).isnull().any(axis=1)]"
   ]
  },
  {
   "cell_type": "code",
   "execution_count": null,
   "id": "4cc11eb7",
   "metadata": {},
   "outputs": [],
   "source": [
    "# # 計算各年度鄉鎮市區房價中位數\n",
    "# housePriceMedianData = housePriceData.groupby(by=['county', 'town', 'year'], as_index=False)['price'].\\\n",
    "#     agg(['median', 'count']).\\\n",
    "#     reset_index().\\\n",
    "#     rename(columns={'median': 'house_median_price', 'count': 'countNums'})"
   ]
  },
  {
   "cell_type": "code",
   "execution_count": null,
   "id": "9bc9a89d",
   "metadata": {},
   "outputs": [],
   "source": [
    "# # 處理不動產實價登錄 新竹市及嘉義市未分區狀況 將縣市資料套用至鄉鎮市區\n",
    "# for county in ['嘉義市', '新竹市']:\n",
    "    \n",
    "#     # 將不動產實價登錄的縣市資料取出 並丟棄town欄位\n",
    "#     tempData = housePriceMedianData[housePriceMedianData['county'] == county].drop(columns=['town'])\n",
    "#     # 將segis資料的鄉鎮市區取出 以cell方式存為town欄位\n",
    "#     tempData['town'] = [segisData[segisData['county'] == county]['town'].unique().tolist()] * len(tempData)\n",
    "#     # 利用explod將縣市資料套用至鄉鎮市區\n",
    "#     tempData = tempData.explode('town')\n",
    "#     # 刪除舊資料\n",
    "#     housePriceMedianData = housePriceMedianData[housePriceMedianData['county'] != county]\n",
    "#     # 併入新資料\n",
    "#     housePriceMedianData = pd.concat([housePriceMedianData, tempData])"
   ]
  },
  {
   "cell_type": "code",
   "execution_count": null,
   "id": "4a675a84",
   "metadata": {},
   "outputs": [],
   "source": [
    "# # 建立完整索引清單\n",
    "# housePriceMedianData = pd.merge(segisData[['year', 'county', 'town']],\n",
    "#                                 housePriceMedianData,\n",
    "#                                 how='left',\n",
    "#                                 on=['year', 'county', 'town'])\n",
    "\n",
    "# # 併入可支配所得資料\n",
    "# housePriceToIncome = pd.merge(housePriceMedianData,\n",
    "#                               disposableIncomeData,\n",
    "#                               how='left',\n",
    "#                               on=['year', 'county'])"
   ]
  },
  {
   "cell_type": "code",
   "execution_count": null,
   "id": "e058f567",
   "metadata": {},
   "outputs": [],
   "source": [
    "# # 排序資料確保向前補值不會出錯\n",
    "# housePriceToIncome = housePriceToIncome.sort_values(by=['county', 'town', 'year']).reset_index(drop=True)\n",
    "\n",
    "# # 處理缺值房價中位數缺值問題 若有缺值則向前補足\n",
    "# housePriceToIncome['house_median_price'] = housePriceToIncome. \\\n",
    "# groupby(['county', 'town'])['house_median_price']. \\\n",
    "# transform(lambda x: x.ffill())\n",
    "\n",
    "# # 處理缺值房價中位數缺值問題 若有缺值則向前補足\n",
    "# housePriceToIncome['disposable_income_median'] = housePriceToIncome. \\\n",
    "# groupby(['county', 'town'])['disposable_income_median']. \\\n",
    "# transform(lambda x: x.ffill())\n",
    "\n",
    "# housePriceToIncome"
   ]
  },
  {
   "cell_type": "code",
   "execution_count": null,
   "id": "2402269c",
   "metadata": {},
   "outputs": [],
   "source": [
    "# 確認資料\n",
    "# housePriceToIncome[housePriceToIncome['town']=='屏東市']"
   ]
  },
  {
   "cell_type": "code",
   "execution_count": null,
   "id": "515458f9",
   "metadata": {},
   "outputs": [],
   "source": [
    "# # 計算房價所得比\n",
    "# housePriceToIncome['location_house_price_to_income'] = housePriceToIncome['house_median_price']/\\\n",
    "#                                               housePriceToIncome['disposable_income_median']\n",
    "# housePriceToIncome"
   ]
  },
  {
   "cell_type": "code",
   "execution_count": null,
   "id": "12bc5ff2",
   "metadata": {},
   "outputs": [],
   "source": [
    "# # 判斷是否有缺值資料\n",
    "# # housePriceToIncome[housePriceToIncome.isnull().any(axis=1)]\n",
    "\n",
    "# checkData = housePriceToIncome[(~housePriceToIncome['county'].isin(['金門縣', '連江縣'])) &\n",
    "#                                (~housePriceToIncome['year'].isin([104, 109]))]\n",
    "# checkData[checkData.drop('countNums', axis=1).isnull().any(axis=1)]"
   ]
  },
  {
   "cell_type": "code",
   "execution_count": null,
   "id": "a74a721a",
   "metadata": {},
   "outputs": [],
   "source": [
    "# # 將可支配所得中位數與房價所得比併入特徵資料集\n",
    "# featureData = pd.merge(featureData,\n",
    "#                        housePriceToIncome[['year', 'county', 'town', \n",
    "#                                            'disposable_income_median', \n",
    "#                                            'location_house_price_to_income']],\n",
    "#                        how='left',\n",
    "#                        on=['year', 'county', 'town'])\n",
    "# featureData.info()"
   ]
  },
  {
   "cell_type": "markdown",
   "id": "569be737",
   "metadata": {},
   "source": [
    "# 整理失業率資料"
   ]
  },
  {
   "cell_type": "code",
   "execution_count": null,
   "id": "03748142",
   "metadata": {},
   "outputs": [],
   "source": [
    "# 查詢失業率資料\n",
    "sqlQuery = '''\n",
    "select year, area as county, total as unemployment_rate from project.unemployment_rate;\n",
    "'''\n",
    "\n",
    "# 取得資料\n",
    "unemploymentRateData = pd.read_sql(sql=sqlQuery, con=CreateDBEngine())\n",
    "unemploymentRateData"
   ]
  },
  {
   "cell_type": "code",
   "execution_count": null,
   "id": "a11bf199",
   "metadata": {},
   "outputs": [],
   "source": [
    "# 將失業率併入特徵資料集\n",
    "featureData = pd.merge(featureData,\n",
    "                       unemploymentRateData,\n",
    "                       how='left',\n",
    "                       on=['year', 'county'])\n",
    "featureData.info()"
   ]
  },
  {
   "cell_type": "code",
   "execution_count": null,
   "id": "4e2fd66d",
   "metadata": {},
   "outputs": [],
   "source": [
    "# 判斷失業率缺值資料狀況\n",
    "# 連江縣和金門縣沒有資料\n",
    "featureData[featureData[['year', 'county', 'unemployment_rate']].isnull().any(axis=1)]"
   ]
  },
  {
   "cell_type": "markdown",
   "id": "7563719e",
   "metadata": {},
   "source": [
    "# 整理房價負擔能力統計(縣市)"
   ]
  },
  {
   "cell_type": "code",
   "execution_count": null,
   "id": "a1cdb9c8",
   "metadata": {},
   "outputs": [],
   "source": [
    "# 查詢房價負擔能力統計資料\n",
    "sqlQuery = '''\n",
    "select year, \n",
    "city as county, \n",
    "mbr as house_burden_ratio,  # 房價負擔率(%)\n",
    "round(year_change_mbr, 2) as house_burden_yoy,   # 房價負擔率年變動值\n",
    "pir as house_price_income_ratio,  # 房價所得比(倍)\n",
    "round(year_change_pir, 2) as house_price_income_yoy  # 房價所得比年變動值\n",
    "from project.house_burden_data where season = 4;\n",
    "'''\n",
    "\n",
    "# 取得資料\n",
    "housingAffordabilityData = pd.read_sql(sql=sqlQuery, con=CreateDBEngine())\n",
    "housingAffordabilityData"
   ]
  },
  {
   "cell_type": "code",
   "execution_count": null,
   "id": "5c22718c",
   "metadata": {},
   "outputs": [],
   "source": [
    "# 將房價負擔能力統計資料併入特徵資料集\n",
    "featureData = pd.merge(featureData,\n",
    "                       housingAffordabilityData,\n",
    "                       how='left',\n",
    "                       on=['year', 'county'])\n",
    "featureData.info()"
   ]
  },
  {
   "cell_type": "markdown",
   "id": "dc9fe4b1",
   "metadata": {},
   "source": [
    "# 整理女性勞動力參與率"
   ]
  },
  {
   "cell_type": "code",
   "execution_count": null,
   "id": "9baaa121",
   "metadata": {},
   "outputs": [],
   "source": [
    "sqlQuery = '''\n",
    "select year, \n",
    "area as county,\n",
    "age_20_24_female as female_labor_ratio_20_24,  # 20-24歲女性勞動力參與率(%)\n",
    "age_25_29_female as female_labor_ratio_25_29,  # 25-29歲女性勞動力參與率(%)\n",
    "age_30_34_female as female_labor_ratio_30_34,  # 30-34歲女性勞動力參與率(%)\n",
    "age_35_39_female as female_labor_ratio_35_39  # 35-39歲女性勞動力參與率(%)\n",
    "from project.labor_force_participation_rate;\n",
    "'''\n",
    "\n",
    "# 取得資料\n",
    "laborForceData = pd.read_sql(sql=sqlQuery, con=CreateDBEngine())\n",
    "laborForceData"
   ]
  },
  {
   "cell_type": "code",
   "execution_count": null,
   "id": "752e3e17",
   "metadata": {},
   "outputs": [],
   "source": [
    "# 判斷是否有缺值資料\n",
    "laborForceData[laborForceData.isnull().any(axis=1)]"
   ]
  },
  {
   "cell_type": "code",
   "execution_count": null,
   "id": "b77c09e3",
   "metadata": {},
   "outputs": [],
   "source": [
    "# 將女性勞動力參與率統計資料併入特徵資料集\n",
    "featureData = pd.merge(featureData,\n",
    "                       laborForceData,\n",
    "                       how='left',\n",
    "                       on=['year', 'county'])\n",
    "featureData.info()"
   ]
  },
  {
   "cell_type": "markdown",
   "id": "2c378253",
   "metadata": {},
   "source": [
    "# 整理自有住宅率"
   ]
  },
  {
   "cell_type": "code",
   "execution_count": null,
   "id": "de65f885",
   "metadata": {},
   "outputs": [],
   "source": [
    "sqlQuery = '''\n",
    "select year, \n",
    "county as county, \n",
    "home_ownership_rate as home_ownership_rate  # 自有住宅率(%)\n",
    "from project.home_ownership_rate;\n",
    "'''\n",
    "\n",
    "# 取得資料\n",
    "homeOwnershipData = pd.read_sql(sql=sqlQuery, con=CreateDBEngine())\n",
    "homeOwnershipData"
   ]
  },
  {
   "cell_type": "code",
   "execution_count": null,
   "id": "15c80cf9",
   "metadata": {},
   "outputs": [],
   "source": [
    "# 將自有住宅率資料併入特徵資料集\n",
    "featureData = pd.merge(featureData,\n",
    "                       homeOwnershipData,\n",
    "                       how='left',\n",
    "                       on=['year', 'county'])\n",
    "featureData.info()"
   ]
  },
  {
   "cell_type": "markdown",
   "id": "de949018",
   "metadata": {},
   "source": [
    "# 幼兒園概況資訊"
   ]
  },
  {
   "cell_type": "code",
   "execution_count": null,
   "id": "2e4bbbcf",
   "metadata": {},
   "outputs": [],
   "source": [
    "sqlQuery = '''\n",
    "select year, county,\n",
    "round(public_school_nums/total_school_nums, 4) as public_kindergarten_ratio,  # 公幼占比\n",
    "round(public_children/total_children, 4) as public_children_ratio  # 公幼生占比\n",
    "from project.kindergarten_data;\n",
    "'''\n",
    "\n",
    "# 取得資料\n",
    "kindergartenData = pd.read_sql(sql=sqlQuery, con=CreateDBEngine())\n",
    "kindergartenData"
   ]
  },
  {
   "cell_type": "code",
   "execution_count": null,
   "id": "d1ecade6",
   "metadata": {},
   "outputs": [],
   "source": [
    "# 將幼兒(稚)園概況統計資料併入特徵資料集\n",
    "featureData = pd.merge(featureData,\n",
    "                       kindergartenData,\n",
    "                       how='left',\n",
    "                       on=['year', 'county'])\n",
    "featureData.info()"
   ]
  },
  {
   "cell_type": "markdown",
   "id": "8bc583dc",
   "metadata": {},
   "source": [
    "#  整理育齡婦女之年齡別生育率"
   ]
  },
  {
   "cell_type": "code",
   "execution_count": null,
   "id": "0d9e82b3",
   "metadata": {},
   "outputs": [],
   "source": [
    "# sqlQuery = '''\n",
    "# select year, county,\n",
    "# age20_24_childbearing,  # 20-24歲生育率\n",
    "# age25_29_childbearing,  # 25-29歲生育率\n",
    "# age30_34_childbearing,  # 30-34歲生育率\n",
    "# age35_39_childbearing,  # 35-39歲生育率\n",
    "# mean_age_childbearing,  # 生母生育平均年齡\n",
    "# mean_age_first_childbearing  # 生母生第一胎平均年齡\n",
    "# from project.fertility_rate;\n",
    "# '''\n",
    "\n",
    "# # 取得資料\n",
    "# fertilityRatioData = pd.read_sql(sql=sqlQuery, con=CreateDBEngine())\n",
    "# fertilityRatioData"
   ]
  },
  {
   "cell_type": "code",
   "execution_count": null,
   "id": "2a275ad7",
   "metadata": {},
   "outputs": [],
   "source": [
    "# # 將育齡婦女之年齡別生育率統計資料併入特徵資料集\n",
    "# featureData = pd.merge(featureData,\n",
    "#                        fertilityRatioData,\n",
    "#                        how='left',\n",
    "#                        on=['year', 'county'])\n",
    "# featureData.info()"
   ]
  },
  {
   "cell_type": "markdown",
   "id": "f851af15",
   "metadata": {},
   "source": [
    "# 整理公辦民營托嬰中心資料"
   ]
  },
  {
   "cell_type": "code",
   "execution_count": null,
   "id": "43a3a2d1",
   "metadata": {},
   "outputs": [],
   "source": [
    "sqlQuery = '''\n",
    "select year-1911 as year,\n",
    "city as county,\n",
    "# 公辦民營托嬰中心占比 = 公辦民營托嬰中心所數/托嬰中心所數\n",
    "round(public_to_private_childcare_center/totla_childcare_center, 4) as public_child_care_center_ratio\n",
    "from project.number_of_childcare_centers_and_recipients;\n",
    "'''\n",
    "\n",
    "# 取得資料\n",
    "childcareCentersData = pd.read_sql(sql=sqlQuery, con=CreateDBEngine())\n",
    "childcareCentersData"
   ]
  },
  {
   "cell_type": "code",
   "execution_count": null,
   "id": "072093a3",
   "metadata": {},
   "outputs": [],
   "source": [
    "# 將公辦民營托嬰中心統計資料併入特徵資料集\n",
    "featureData = pd.merge(featureData,\n",
    "                       childcareCentersData,\n",
    "                       how='left',\n",
    "                       on=['year', 'county'])\n",
    "featureData.info()"
   ]
  },
  {
   "cell_type": "code",
   "execution_count": null,
   "id": "9bca1913",
   "metadata": {},
   "outputs": [],
   "source": [
    "0"
   ]
  },
  {
   "cell_type": "code",
   "execution_count": null,
   "id": "e6296f2f",
   "metadata": {},
   "outputs": [],
   "source": [
    "# 將托嬰涵蓋比率資料併入特徵資料集\n",
    "featureData = pd.merge(featureData,\n",
    "                       childCareCoverRatio,\n",
    "                       how='left',\n",
    "                       on=['year', 'county'])\n",
    "featureData.info()"
   ]
  },
  {
   "cell_type": "markdown",
   "id": "13fed638",
   "metadata": {},
   "source": [
    "# 儲存特徵資料"
   ]
  },
  {
   "cell_type": "code",
   "execution_count": null,
   "id": "f88c9bf2",
   "metadata": {},
   "outputs": [],
   "source": [
    "# 排除金門縣及馬祖縣(政府資料不足)\n",
    "featureData = featureData[~featureData['county'].isin(['金門縣', '連江縣'])]"
   ]
  },
  {
   "cell_type": "code",
   "execution_count": null,
   "id": "f541ab65",
   "metadata": {},
   "outputs": [],
   "source": [
    "# 確認特徵資料狀況\n",
    "featureData.info()"
   ]
  },
  {
   "cell_type": "code",
   "execution_count": null,
   "id": "f7692f8d",
   "metadata": {},
   "outputs": [],
   "source": [
    "# 確認缺值欄位\n",
    "checkData = featureData[featureData['year']!=109]\n",
    "checkData[checkData.isnull().any(axis=1)]"
   ]
  },
  {
   "cell_type": "code",
   "execution_count": null,
   "id": "32429d2e",
   "metadata": {},
   "outputs": [],
   "source": [
    "# 儲存資料\n",
    "featureData.to_csv('featureData.csv', index=False, encoding='utf-8-sig')"
   ]
  },
  {
   "cell_type": "markdown",
   "id": "4d17ff3e",
   "metadata": {},
   "source": [
    "# 機器學習前置作業"
   ]
  },
  {
   "cell_type": "code",
   "execution_count": null,
   "id": "3d5aed7a",
   "metadata": {},
   "outputs": [],
   "source": [
    "# 讀取資料\n",
    "featureData = pd.read_csv('featureData.csv')"
   ]
  },
  {
   "cell_type": "code",
   "execution_count": null,
   "id": "94bba0b7",
   "metadata": {},
   "outputs": [],
   "source": [
    "# # 產生預測目標: 以t+1年的出生率作為預測目標\n",
    "# featureData['predictY'] = featureData.sort_values(by=['town_id', 'year'], ascending=[True, True]).groupby(['town_id'])['birth_rate'].shift(-1)\n",
    "# featureData"
   ]
  },
  {
   "cell_type": "code",
   "execution_count": null,
   "id": "75b47e3e",
   "metadata": {},
   "outputs": [],
   "source": [
    "# # 產生預測目標分類: 出生率是否增加/下降 t+1年的出生率>t年出生率視為增加 反之為下降\n",
    "# featureData['predictYClass'] = np.where(featureData['predictY'] > featureData['birth_rate'], 1, 0)\n",
    "# featureData"
   ]
  },
  {
   "cell_type": "code",
   "execution_count": null,
   "id": "bcab60bc",
   "metadata": {},
   "outputs": [],
   "source": [
    "# 產生預測目標: 以t年的出生率作為預測目標\n",
    "featureData['predictY'] = featureData['birth_rate']\n",
    "featureData"
   ]
  },
  {
   "cell_type": "code",
   "execution_count": null,
   "id": "fad22bfb",
   "metadata": {},
   "outputs": [],
   "source": [
    "# # 產生預測目標分類: 出生率是否增加/下降 t年的出生率>t-1年出生率視為增加 反之為下降\n",
    "featureData['lag_birth_rate'] = featureData.sort_values(by=['town_id', 'year'], ascending=[True, True]).groupby(['town_id'])['birth_rate'].shift(1)\n",
    "featureData['predictYClass'] = np.where(featureData['birth_rate'] > featureData['lag_birth_rate'], 1, 0)\n",
    "featureData"
   ]
  },
  {
   "cell_type": "code",
   "execution_count": null,
   "id": "00e9f223",
   "metadata": {},
   "outputs": [],
   "source": [
    "# 劃分訓練期資料(以104年-107年作為訓練樣本)\n",
    "# trainData = featureData[featureData['year'].isin(list(range(104, 108)))].reset_index(drop=True)\n",
    "# 劃分訓練期資料(以105年-107年作為訓練樣本)\n",
    "trainData = featureData[featureData['year'].isin(list(range(105, 108)))].reset_index(drop=True)\n",
    "\n",
    "# 刪除遺失值\n",
    "trainData = trainData.dropna()\n",
    "\n",
    "# 分離樣本識別資訊與機器學習用訓練資料\n",
    "trainDataInfo = trainData[['year', 'town_id', 'county', 'town']]\n",
    "\n",
    "# 訓練預測目標\n",
    "y_train_reg = trainData['predictY']\n",
    "y_train_class = trainData['predictYClass']\n",
    "\n",
    "# 訓練特徵資料\n",
    "X_train_raw = trainData.drop(['year', 'town_id', 'county', 'town', 'predictY',\n",
    "                              'predictYClass', 'birth_rate', 'lag_birth_rate'], axis=1)"
   ]
  },
  {
   "cell_type": "code",
   "execution_count": null,
   "id": "4732425a",
   "metadata": {},
   "outputs": [],
   "source": [
    "# 建立特徵中文名稱\n",
    "chColumnNames = {'death_rate': '死亡率',\n",
    "                 'immigration_rate': '移入率',\n",
    "                 'migration_rate': '移出率',\n",
    "                 'toddler_population': '幼年人口佔比',\n",
    "                 'worker_population': '青壯年人口佔比',\n",
    "                 'elderly_population': '老年人口佔比',\n",
    "                 'child_dependency_ratio': '扶幼比',\n",
    "                 'old_age_dependency_ratio': '扶老比',\n",
    "                 'aboriginal_population_ratio': '原住民人口比率',\n",
    "                 'married_rate': '結婚率',\n",
    "                 'divorce_rate': '離婚率',\n",
    "                 'density': '人口密度',\n",
    "                 'disposable_income_median': '家戶可支配所得中位數',\n",
    "                 'location_house_price_to_income': '房價所得比(鄉鎮市區)',\n",
    "                 'unemployment_rate': '失業率',\n",
    "                 'house_burden_ratio': '房價負擔率',\n",
    "                 'house_burden_yoy': '房價負擔率YoY',\n",
    "                 'house_price_income_ratio': '房價所得比',\n",
    "                 'house_price_income_yoy': '房價所得比YoY',\n",
    "                 'female_labor_ratio_20_24': '20-24歲女性勞動力參與率',\n",
    "                 'female_labor_ratio_25_29': '25-29歲女性勞動力參與率',\n",
    "                 'female_labor_ratio_30_34': '30-34歲女性勞動力參與率',\n",
    "                 'female_labor_ratio_35_39': '35-39歲女性勞動力參與率',\n",
    "                 'home_ownership_rate': '自有住宅率',\n",
    "                 'public_kindergarten_ratio': '公幼佔比',\n",
    "                 'public_children_ratio': '公幼生佔比',\n",
    "                 'age20_24_childbearing': '20-24歲生育率',\n",
    "                 'age25_29_childbearing': '25-29歲生育率',\n",
    "                 'age30_34_childbearing': '30-34歲生育率',\n",
    "                 'age35_39_childbearing': '35-39歲生育率',\n",
    "                 'mean_age_childbearing': '生母生育平均年齡',\n",
    "                 'mean_age_first_childbearing': '生母生第一胎平均年齡',\n",
    "                 'public_child_care_center_ratio': '公辦民營托嬰中心占比',\n",
    "                 'child_care_cover_ratio': '托嬰涵蓋比率'\n",
    "                }\n",
    "\n",
    "featureChName = [chColumnNames[elem] for elem in X_train_raw.columns]\n",
    "featureChName"
   ]
  },
  {
   "cell_type": "code",
   "execution_count": null,
   "id": "2da219ba",
   "metadata": {},
   "outputs": [],
   "source": [
    "# 檢查資料年份\n",
    "trainData['year'].drop_duplicates()"
   ]
  },
  {
   "cell_type": "code",
   "execution_count": null,
   "id": "7f1a57cd",
   "metadata": {
    "scrolled": true
   },
   "outputs": [],
   "source": [
    "# 計算訓練期相關係數矩陣\n",
    "trainCorrMatrix = trainData.drop(['year', 'town_id', 'county', 'town', 'predictYClass', \n",
    "                                  'birth_rate', 'lag_birth_rate'], axis=1).corr()\n",
    "trainCorrMatrix.style.background_gradient(cmap='coolwarm')"
   ]
  },
  {
   "cell_type": "code",
   "execution_count": null,
   "id": "c7ca5e30",
   "metadata": {},
   "outputs": [],
   "source": [
    "# 繪製t期各變數與t+1期相關係數值\n",
    "fig = px.bar(trainCorrMatrix['predictY'])\n",
    "fig.update_layout(title={'text': 't+1期出生率與t期特徵之相關係數', 'x': 0.5},\n",
    "                  showlegend=False,\n",
    "                  xaxis_title=\"特徵名稱\",\n",
    "                  yaxis_title=\"相關係數\")\n",
    "fig.show()"
   ]
  },
  {
   "cell_type": "code",
   "execution_count": null,
   "id": "a3d42447",
   "metadata": {},
   "outputs": [],
   "source": [
    "# 檢驗共線性\n",
    "from statsmodels.stats.outliers_influence import variance_inflation_factor\n",
    "vif_data = pd.DataFrame()\n",
    "vif_data[\"feature\"] = X_train_raw.columns\n",
    "vif_data[\"VIF\"] = [variance_inflation_factor(X_train_raw.values, i) for i in range(len(X_train_raw.columns))]\n",
    "vif_data[vif_data[\"VIF\"]>10]"
   ]
  },
  {
   "cell_type": "code",
   "execution_count": null,
   "id": "32bac74d",
   "metadata": {},
   "outputs": [],
   "source": [
    "# # 觀察每個變數的分布\n",
    "# plotData = featureData\n",
    "# print(plotData.columns)\n",
    "# plotData['資料類別'] = np.where(plotData['year'].isin(list(range(104, 108))), '訓練集', '測試集')\n",
    "# fig = px.histogram(plotData, x=\"birth_rate\", color = \"資料類別\")\n",
    "# fig.show()"
   ]
  },
  {
   "cell_type": "code",
   "execution_count": null,
   "id": "cacf92b2",
   "metadata": {},
   "outputs": [],
   "source": [
    "# # 觀察每個變數的分布\n",
    "# plotData\n",
    "# sns.pairplot(data = plotData, vars=['predictY','priceIncomeRatio_yoy','unemployment_rate'])"
   ]
  },
  {
   "cell_type": "code",
   "execution_count": null,
   "id": "732482e1",
   "metadata": {},
   "outputs": [],
   "source": [
    "# 劃分測試期資料(以108年作為測試樣本)\n",
    "testData = featureData[featureData['year'].isin([108])].reset_index(drop=True)\n",
    "\n",
    "# 刪除遺失值\n",
    "testData = testData.dropna()\n",
    "\n",
    "# 分離樣本識別資訊與機器學習用訓練資料\n",
    "testDataInfo = testData[['year', 'town_id', 'county', 'town']]\n",
    "\n",
    "# 測試預測目標\n",
    "y_test_reg = testData['predictY']\n",
    "y_test_class = testData['predictYClass']\n",
    "\n",
    "# 測試特徵資料\n",
    "X_test_raw = testData.drop(['year', 'town_id', 'county', 'town', 'predictY',\n",
    "                            'predictYClass', 'birth_rate', 'lag_birth_rate'], axis=1)"
   ]
  },
  {
   "cell_type": "code",
   "execution_count": null,
   "id": "0903426e",
   "metadata": {},
   "outputs": [],
   "source": [
    "# 檢查資料年份\n",
    "testData['year'].drop_duplicates()"
   ]
  },
  {
   "cell_type": "code",
   "execution_count": null,
   "id": "e2ee6ddc",
   "metadata": {},
   "outputs": [],
   "source": [
    "# 觀察樣本狀況\n",
    "print('訓練集樣本共有:', len(X_train_raw), '筆樣本')\n",
    "print('訓練集樣本共有:', len(X_test_raw), '筆樣本')"
   ]
  },
  {
   "cell_type": "code",
   "execution_count": null,
   "id": "2582568a",
   "metadata": {},
   "outputs": [],
   "source": [
    "# 繪製訓練集與測試集分類數狀況\n",
    "plotData = pd.concat([y_train_class.value_counts().reset_index().assign(dataType='訓練集'),\n",
    "                      y_test_class.value_counts().reset_index().assign(dataType='測試集')])\n",
    "plotData.columns = ['預測分類', '樣本數量', '資料類別']\n",
    "plotData['預測分類'] = plotData['預測分類'].astype('str')\n",
    "fig = px.bar(plotData, x='資料類別', y='樣本數量', color='預測分類', barmode='group')\n",
    "fig.show()"
   ]
  },
  {
   "cell_type": "code",
   "execution_count": null,
   "id": "0c244291",
   "metadata": {},
   "outputs": [],
   "source": [
    "# 資料標準化(z-score)\n",
    "scaler  = preprocessing.StandardScaler().fit(X_train_raw)\n",
    "X_train_scaler = scaler.transform(X_train_raw)\n",
    "X_test_scaler = scaler.transform(X_test_raw)\n",
    "\n",
    "# 觀察轉換狀況\n",
    "pd.DataFrame(X_train_scaler).hist()\n",
    "plt.show()"
   ]
  },
  {
   "cell_type": "code",
   "execution_count": null,
   "id": "34b6983f",
   "metadata": {},
   "outputs": [],
   "source": [
    "# 處理極值\n",
    "X_train_scaler[X_train_scaler>3] = 3\n",
    "X_train_scaler[X_train_scaler<-3] = -3\n",
    "\n",
    "# 確認矩陣值域\n",
    "print('特徵矩陣最大值:', np.amax(X_train_scaler))\n",
    "print('特徵矩陣最小值:', np.amin(X_train_scaler))"
   ]
  },
  {
   "cell_type": "code",
   "execution_count": null,
   "id": "5ffb7315",
   "metadata": {},
   "outputs": [],
   "source": [
    "# 資料標準化(縮放至[0, 1]區間)\n",
    "min_max_scaler = preprocessing.MinMaxScaler().fit(X_train_scaler)\n",
    "X_train_minmax = min_max_scaler.transform(X_train_scaler)\n",
    "X_test_minmax = min_max_scaler.transform(X_test_scaler)\n",
    "\n",
    "# 確認觀察矩陣值域\n",
    "print('特徵矩陣最大值:', np.amax(X_train_minmax))\n",
    "print('特徵矩陣最小值:', np.amin(X_train_minmax))"
   ]
  },
  {
   "cell_type": "code",
   "execution_count": null,
   "id": "830cd927",
   "metadata": {},
   "outputs": [],
   "source": [
    "# 特徵標準化後的資料\n",
    "X_train = X_train_minmax\n",
    "X_test = X_test_minmax"
   ]
  },
  {
   "cell_type": "code",
   "execution_count": null,
   "id": "edd8305b",
   "metadata": {},
   "outputs": [],
   "source": [
    "# 不做特徵標準化\n",
    "X_train = X_train_raw\n",
    "X_test = X_test_raw"
   ]
  },
  {
   "cell_type": "code",
   "execution_count": null,
   "id": "7f8c96bb",
   "metadata": {},
   "outputs": [],
   "source": [
    "# 由於訓練集資料不平衡 此處採用Oversample\n",
    "ros = RandomOverSampler(random_state=666)\n",
    "X_train_class, y_train_class = ros.fit_resample(X_train, y_train_class)"
   ]
  },
  {
   "cell_type": "code",
   "execution_count": null,
   "id": "3de96ad6",
   "metadata": {},
   "outputs": [],
   "source": [
    "# 確認訓練集是否已達成oversample\n",
    "plotData = pd.concat([y_train_class.value_counts().reset_index().assign(dataType='訓練集'),\n",
    "                      y_test_class.value_counts().reset_index().assign(dataType='測試集')])\n",
    "plotData.columns = ['預測分類', '樣本數量', '資料類別']\n",
    "plotData['預測分類'] = plotData['預測分類'].astype('str')\n",
    "fig = px.bar(plotData, x='資料類別', y='樣本數量', color='預測分類', barmode='group')\n",
    "fig.show()"
   ]
  },
  {
   "cell_type": "markdown",
   "id": "7a21e507",
   "metadata": {},
   "source": [
    "# 多元線性迴歸(預測值)"
   ]
  },
  {
   "cell_type": "code",
   "execution_count": null,
   "id": "6af6b90a",
   "metadata": {},
   "outputs": [],
   "source": [
    "from sklearn import linear_model\n",
    "\n",
    "# 建立線性迴歸模型\n",
    "regModel = linear_model.LinearRegression()\n",
    "\n",
    "# 學習線性迴歸模型\n",
    "regModel = regModel.fit(X_train, y_train_reg)\n",
    "\n",
    "# 迴歸模型預測\n",
    "reg_train_pred = regModel.predict(X_train)\n",
    "reg_test_pred = regModel.predict(X_test)"
   ]
  },
  {
   "cell_type": "code",
   "execution_count": null,
   "id": "5f0b83d2",
   "metadata": {},
   "outputs": [],
   "source": [
    "print('迴歸模型預測train的RMSE:', mean_squared_error(y_train_reg, reg_train_pred, squared=False))\n",
    "print('迴歸模型預測test的RMSE:', mean_squared_error(y_test_reg, reg_test_pred, squared=False))"
   ]
  },
  {
   "cell_type": "markdown",
   "id": "52c1142d",
   "metadata": {},
   "source": [
    "# 決策樹(預測值)"
   ]
  },
  {
   "cell_type": "code",
   "execution_count": null,
   "id": "2287ccbd",
   "metadata": {},
   "outputs": [],
   "source": [
    "from sklearn import tree\n",
    "\n",
    "# 建立決策樹模型\n",
    "decisionTreeRegModel = tree.DecisionTreeRegressor()\n",
    "\n",
    "# 查看 Decision Tree 默認參數值\n",
    "pprint(decisionTreeRegModel.get_params())\n",
    "\n",
    "# 設定參數組合\n",
    "paramGrid = {\n",
    "    'min_samples_leaf': [1, 3, 5, 10],  # 葉子節點最少樣本數\n",
    "    'max_depth': [3, 5, 7, 10],  # 最大深度\n",
    "}\n",
    "\n",
    "# 設定 Grid Search with Cross Validation\n",
    "grid_search = GridSearchCV(estimator = decisionTreeRegModel, param_grid = paramGrid, \n",
    "                           cv = 5, n_jobs = -1, verbose = 2)\n",
    "\n",
    "# 執行 Grid Search with Cross Validation\n",
    "grid_search.fit(X_train, y_train_reg)"
   ]
  },
  {
   "cell_type": "code",
   "execution_count": null,
   "id": "c0797847",
   "metadata": {},
   "outputs": [],
   "source": [
    "# 最佳參數組合\n",
    "print('最佳參數組合:')\n",
    "pprint(grid_search.best_params_)\n",
    "print()\n",
    "\n",
    "# 最佳參數組合訓練的 Decision Tree 模型\n",
    "bestDecisionTreeRegModel = grid_search.best_estimator_\n",
    "\n",
    "# 模型預測\n",
    "bestDecisionTreeReg_train_pred = bestDecisionTreeRegModel.predict(X_train)\n",
    "bestDecisionTreeReg_test_pred = bestDecisionTreeRegModel.predict(X_test)\n",
    "\n",
    "print('最佳參數組合決策樹迴歸模型預測train的RMSE:', \n",
    "      mean_squared_error(y_train_reg, bestDecisionTreeReg_train_pred, squared=False))\n",
    "print('最佳參數組合決策樹迴歸模型預測test的RMSE:', \n",
    "      mean_squared_error(y_test_reg, bestDecisionTreeReg_test_pred, squared=False))"
   ]
  },
  {
   "cell_type": "code",
   "execution_count": null,
   "id": "ce351333",
   "metadata": {},
   "outputs": [],
   "source": [
    "# # 繪製決策樹\n",
    "# tree.plot_tree(bestDecisionTreeRegModel)\n",
    "# plt.show()"
   ]
  },
  {
   "cell_type": "markdown",
   "id": "80d5a75b",
   "metadata": {},
   "source": [
    "# 隨機森林迴歸(預測值)"
   ]
  },
  {
   "cell_type": "code",
   "execution_count": null,
   "id": "5e6e50bd",
   "metadata": {},
   "outputs": [],
   "source": [
    "from sklearn.ensemble import RandomForestRegressor\n",
    "\n",
    "# 建立隨機森林模型\n",
    "rfRegModel = RandomForestRegressor()\n",
    "\n",
    "# 查看 Random Forest默認參數值\n",
    "# pprint(rfRegModel.get_params())\n",
    "\n",
    "# 設定參數組合\n",
    "paramGrid = {\n",
    "    'min_samples_leaf': [1, 3, 5, 10],  # 葉子節點最少樣本數\n",
    "    'max_depth': [3, 5, 7, 10],  # 最大深度\n",
    "    'n_estimators': [100, 200, 300, 500]  # 決策樹數量\n",
    "}\n",
    "\n",
    "# 設定 Grid Search with Cross Validation\n",
    "grid_search = GridSearchCV(estimator = rfRegModel, param_grid = paramGrid, \n",
    "                           cv = 5, n_jobs = -1, verbose = 2)\n",
    "\n",
    "# 執行 Grid Search with Cross Validation\n",
    "grid_search.fit(X_train, y_train_reg)"
   ]
  },
  {
   "cell_type": "code",
   "execution_count": null,
   "id": "523cbdcf",
   "metadata": {},
   "outputs": [],
   "source": [
    "# 最佳參數組合\n",
    "print('最佳參數組合:')\n",
    "pprint(grid_search.best_params_)\n",
    "print()\n",
    "\n",
    "# 最佳參數組合訓練的隨機森林模型\n",
    "bestRfRegModel = grid_search.best_estimator_\n",
    "\n",
    "# 模型預測\n",
    "rfReg_train_pred = bestRfRegModel.predict(X_train)\n",
    "rfReg_test_pred = bestRfRegModel.predict(X_test)\n",
    "\n",
    "print('最佳參數組合隨機森林迴歸模型預測train的RMSE:', mean_squared_error(y_train_reg, rfReg_train_pred, squared=False))\n",
    "print('最佳參數組合隨機森林迴歸模型預測test的RMSE:', mean_squared_error(y_test_reg, rfReg_test_pred, squared=False))"
   ]
  },
  {
   "cell_type": "code",
   "execution_count": null,
   "id": "7b1089b1",
   "metadata": {},
   "outputs": [],
   "source": [
    "# 繪製特徵解釋能力\n",
    "importance = bestRfRegModel.feature_importances_\n",
    "plotData = pd.DataFrame({'特徵名稱': X_train_raw.columns, '特徵重要程度': importance})\n",
    "fig = px.bar(plotData, x='特徵名稱', y='特徵重要程度')\n",
    "fig.show()"
   ]
  },
  {
   "cell_type": "code",
   "execution_count": null,
   "id": "1d969ac7",
   "metadata": {},
   "outputs": [],
   "source": [
    "# 繪製SHAP圖形\n",
    "shap_values = shap.TreeExplainer(bestRfRegModel).shap_values(X_train)\n",
    "shap.summary_plot(shap_values, X_train, feature_names=featureChName)"
   ]
  },
  {
   "cell_type": "markdown",
   "id": "b8ca41e6",
   "metadata": {},
   "source": [
    "# SVR(預測值)"
   ]
  },
  {
   "cell_type": "code",
   "execution_count": null,
   "id": "4b01c5e3",
   "metadata": {},
   "outputs": [],
   "source": [
    "from sklearn import svm\n",
    "\n",
    "# 建立SVR模型\n",
    "svrModel = svm.SVR()\n",
    "\n",
    "# # 查看 SVR 默認參數值\n",
    "# pprint(svrModel.get_params())\n",
    "\n",
    "# 設定參數組合\n",
    "paramGrid = {\n",
    "    'C': [2**i for i in range(-10, 11, 2)],  # cost值\n",
    "    'gamma': [2**i for i in range(-10, 11, 2)],  # gamma值\n",
    "}\n",
    "\n",
    "# 設定 Grid Search with Cross Validation\n",
    "grid_search = GridSearchCV(estimator = svrModel, param_grid = paramGrid, \n",
    "                           cv = 5, n_jobs = -1, verbose = 2)\n",
    "\n",
    "# 執行 Grid Search with Cross Validation\n",
    "grid_search.fit(X_train, y_train_reg)"
   ]
  },
  {
   "cell_type": "code",
   "execution_count": null,
   "id": "08b0c3cf",
   "metadata": {},
   "outputs": [],
   "source": [
    "# 最佳參數組合\n",
    "print('最佳參數組合:')\n",
    "pprint(grid_search.best_params_)\n",
    "print()\n",
    "\n",
    "# 最佳參數組合訓練的SVR模型\n",
    "bestSvrModel = grid_search.best_estimator_\n",
    "\n",
    "# 模型預測\n",
    "svr_train_pred = bestSvrModel.predict(X_train)\n",
    "svr_test_pred = bestSvrModel.predict(X_test)\n",
    "\n",
    "print('最佳參數組合SVR模型預測train的RMSE:', mean_squared_error(y_train_reg, svr_train_pred, squared=False))\n",
    "print('最佳參數組合SVR模型預測test的RMSE:', mean_squared_error(y_test_reg, svr_test_pred, squared=False))"
   ]
  },
  {
   "cell_type": "markdown",
   "id": "037caab5",
   "metadata": {},
   "source": [
    "# XGBoost(預測值)"
   ]
  },
  {
   "cell_type": "code",
   "execution_count": null,
   "id": "b7877fab",
   "metadata": {},
   "outputs": [],
   "source": [
    "# 建立XGBoost Data Matrix\n",
    "trainDMatrix = xgb.DMatrix(data=X_train, label=y_train_reg, feature_names=featureChName)\n",
    "testDMatrix = xgb.DMatrix(data=X_test, label=y_test_reg, feature_names=featureChName)"
   ]
  },
  {
   "cell_type": "code",
   "execution_count": null,
   "id": "76829469",
   "metadata": {},
   "outputs": [],
   "source": [
    "from sklearn.model_selection import ParameterGrid\n",
    "\n",
    "# 設定參數組合\n",
    "paramGrid = {\n",
    "    'objective':['reg:squarederror'],\n",
    "    'learning_rate': [0.01, 0.1],\n",
    "    'max_depth': [3, 5, 7, 10],\n",
    "    'colsample_bytree': [0.7, 0.9],\n",
    "    'subsample': [0.7, 0.9]\n",
    "}\n",
    "paramGrid = list(ParameterGrid(paramGrid))"
   ]
  },
  {
   "cell_type": "code",
   "execution_count": null,
   "id": "f6b2049d",
   "metadata": {},
   "outputs": [],
   "source": [
    "# 迴圈計算最佳參數組合\n",
    "cvTestEval = list()\n",
    "cvTestRounds = list()\n",
    "for params in paramGrid:\n",
    "    \n",
    "    # 執行交叉驗證\n",
    "    cv_results = xgb.cv(params=params,\n",
    "                        dtrain=trainDMatrix,\n",
    "                        num_boost_round=1000,\n",
    "                        nfold=5,\n",
    "                        metrics=\"rmse\",\n",
    "                        early_stopping_rounds=20)\n",
    "    \n",
    "    \n",
    "    # 紀錄交叉驗證平均誤差\n",
    "    cvTestEval.append(float(cv_results['test-rmse-mean'].tail(1)))\n",
    "    \n",
    "    # 紀錄XGBoost最適疊代次數\n",
    "    cvTestRounds.append(len(cv_results))"
   ]
  },
  {
   "cell_type": "code",
   "execution_count": null,
   "id": "0451239e",
   "metadata": {},
   "outputs": [],
   "source": [
    "# 取test-rmse-mean最小值的參數組合\n",
    "bestParamsIdx = cvTestEval.index(min(cvTestEval))\n",
    "bestParams = paramGrid[bestParamsIdx]\n",
    "bestRounds = cvTestRounds[bestParamsIdx]\n",
    "print('XGBoost最佳參數組合:', bestParams)\n",
    "print('XGBoost最佳疊代數:', bestRounds)"
   ]
  },
  {
   "cell_type": "code",
   "execution_count": null,
   "id": "eb77fbf1",
   "metadata": {},
   "outputs": [],
   "source": [
    "# 以最佳參數組合訓練模型\n",
    "xgbModel = xgb.train(params=bestParams, dtrain=trainDMatrix, num_boost_round=bestRounds)"
   ]
  },
  {
   "cell_type": "code",
   "execution_count": null,
   "id": "0b070788",
   "metadata": {},
   "outputs": [],
   "source": [
    "# 模型預測\n",
    "xgboost_train_pred = xgbModel.predict(trainDMatrix)\n",
    "xgboost_test_pred = xgbModel.predict(testDMatrix)\n",
    "\n",
    "print('最佳參數組合XGBoost模型預測train的RMSE:', mean_squared_error(y_train_reg, xgboost_train_pred, squared=False))\n",
    "print('最佳參數組合XGBoost模型預測test的RMSE:', mean_squared_error(y_test_reg, xgboost_test_pred, squared=False))"
   ]
  },
  {
   "cell_type": "code",
   "execution_count": null,
   "id": "34b3b8bc",
   "metadata": {},
   "outputs": [],
   "source": [
    "xgboost.plot_importance(xgbModel, importance_type='gain')"
   ]
  },
  {
   "cell_type": "code",
   "execution_count": null,
   "id": "e2886557",
   "metadata": {},
   "outputs": [],
   "source": [
    "# 進行SHAP分析\n",
    "explainer = shap.TreeExplainer(xgbModel)\n",
    "shap_values = explainer.shap_values(trainDMatrix)"
   ]
  },
  {
   "cell_type": "code",
   "execution_count": null,
   "id": "992f9785",
   "metadata": {},
   "outputs": [],
   "source": [
    "shap.summary_plot(shap_values, X_train, feature_names=featureChName)"
   ]
  },
  {
   "cell_type": "code",
   "execution_count": null,
   "id": "d5a534b0",
   "metadata": {
    "scrolled": true
   },
   "outputs": [],
   "source": [
    "# 分析單筆樣本\n",
    "shap_values = explainer(X_test)\n",
    "ind = 201\n",
    "print(\"預測鄉鎮市區:\", testDataInfo[\"county\"][ind]+testDataInfo[\"town\"][ind])\n",
    "print(\"預測值:\", xgboost_test_pred[ind])\n",
    "print(\"實際值:\", y_test_reg[ind])\n",
    "shap.plots.force(shap_values[ind], feature_names=featureChName)"
   ]
  },
  {
   "cell_type": "code",
   "execution_count": null,
   "id": "a348787d",
   "metadata": {},
   "outputs": [],
   "source": [
    "# 整理預測結果\n",
    "testOutput = testDataInfo.copy()\n",
    "testOutput.insert(loc=len(testOutput.columns), column='realY', value=y_test_reg)\n",
    "testOutput.insert(loc=len(testOutput.columns), column='predictY', value=xgboost_test_pred)\n",
    "testOutput"
   ]
  },
  {
   "cell_type": "markdown",
   "id": "98e377f2",
   "metadata": {},
   "source": [
    "# XGBoost(預測分類)"
   ]
  },
  {
   "cell_type": "code",
   "execution_count": null,
   "id": "e576e4cb",
   "metadata": {},
   "outputs": [],
   "source": [
    "# 建立XGBoost Data Matrix\n",
    "trainDMatrix = xgb.DMatrix(data=X_train_class, label=y_train_class, feature_names=featureChName)\n",
    "testDMatrix = xgb.DMatrix(data=X_test, label=y_test_class, feature_names=featureChName)"
   ]
  },
  {
   "cell_type": "code",
   "execution_count": null,
   "id": "d8de461b",
   "metadata": {},
   "outputs": [],
   "source": [
    "from sklearn.model_selection import ParameterGrid\n",
    "\n",
    "# 設定參數組合\n",
    "paramGrid = {\n",
    "    'objective':['binary:logistic'],\n",
    "    'learning_rate': [0.01, 0.1],\n",
    "    'max_depth': [3, 5, 7, 10],\n",
    "    'colsample_bytree': [0.7, 0.9],\n",
    "    'subsample': [0.7, 0.9]\n",
    "}\n",
    "paramGrid = list(ParameterGrid(paramGrid))"
   ]
  },
  {
   "cell_type": "code",
   "execution_count": null,
   "id": "5b8d36b8",
   "metadata": {},
   "outputs": [],
   "source": [
    "# 迴圈計算最佳參數組合\n",
    "cvTestEval = list()\n",
    "cvTestRounds = list()\n",
    "for params in paramGrid:\n",
    "    \n",
    "    # 執行交叉驗證\n",
    "    cv_results = xgb.cv(params=params,\n",
    "                        dtrain=trainDMatrix,\n",
    "                        num_boost_round=1000,\n",
    "                        nfold=5,\n",
    "                        metrics=\"logloss\",\n",
    "                        early_stopping_rounds=20)\n",
    "    \n",
    "    \n",
    "    # 紀錄交叉驗證平均誤差\n",
    "    cvTestEval.append(float(cv_results['test-logloss-mean'].tail(1)))\n",
    "    \n",
    "    # 紀錄XGBoost最適疊代次數\n",
    "    cvTestRounds.append(len(cv_results))"
   ]
  },
  {
   "cell_type": "code",
   "execution_count": null,
   "id": "c4e4dd82",
   "metadata": {},
   "outputs": [],
   "source": [
    "# 取test-logloss-mean最小值的參數組合\n",
    "bestParamsIdx = cvTestEval.index(min(cvTestEval))\n",
    "bestParams = paramGrid[bestParamsIdx]\n",
    "bestRounds = cvTestRounds[bestParamsIdx]\n",
    "print('XGBoost最佳參數組合:', bestParams)\n",
    "print('XGBoost最佳疊代數:', bestRounds)"
   ]
  },
  {
   "cell_type": "code",
   "execution_count": null,
   "id": "7fba0844",
   "metadata": {},
   "outputs": [],
   "source": [
    "# 以最佳參數組合訓練模型\n",
    "xgbModel = xgb.train(params=bestParams, dtrain=trainDMatrix, num_boost_round=bestRounds)"
   ]
  },
  {
   "cell_type": "code",
   "execution_count": null,
   "id": "d198f03c",
   "metadata": {},
   "outputs": [],
   "source": [
    "# 模型預測\n",
    "xgboost_train_pred = xgbModel.predict(trainDMatrix)\n",
    "xgboost_train_pred = np.where(xgboost_train_pred > 0.5, 1, 0)\n",
    "xgboost_test_pred = xgbModel.predict(testDMatrix)\n",
    "xgboost_test_pred = np.where(xgboost_test_pred > 0.5, 1, 0)\n",
    "\n",
    "print('最佳參數組合XGBoost模型預測train的accuracy:', accuracy_score(y_train_class, xgboost_train_pred))\n",
    "print('最佳參數組合XGBoost模型預測test的accuracy:', accuracy_score(y_test_class, xgboost_test_pred))"
   ]
  },
  {
   "cell_type": "markdown",
   "id": "b947943d",
   "metadata": {},
   "source": [
    "# logistic迴歸(預測分類)"
   ]
  },
  {
   "cell_type": "code",
   "execution_count": null,
   "id": "1644e985",
   "metadata": {},
   "outputs": [],
   "source": [
    "from sklearn.linear_model import LogisticRegression\n",
    "\n",
    "# 建立logistic迴歸模型\n",
    "logisticRegModel = LogisticRegression()\n",
    "\n",
    "# # 查看logistic迴歸默認參數值\n",
    "# pprint(logisticRegModel.get_params())\n",
    "\n",
    "# 訓練logistic迴歸模型\n",
    "logisticRegModel.fit(X_train_class, y_train_class)\n",
    "\n",
    "# 模型預測\n",
    "logistic_train_pred = logisticRegModel.predict(X_train_class)\n",
    "logistic_test_pred = logisticRegModel.predict(X_test)\n",
    "\n",
    "print('最佳參數組合logistic模型預測train的accuracy:', accuracy_score(y_train_class, logistic_train_pred))\n",
    "print('最佳參數組合logistic模型預測test的accuracy:', accuracy_score(y_test_class, logistic_test_pred))"
   ]
  },
  {
   "cell_type": "code",
   "execution_count": null,
   "id": "67dcf144",
   "metadata": {},
   "outputs": [],
   "source": [
    "# # 模型儲存與載入\n",
    "# # 模型儲存\n",
    "# filename = 'logisticRegModel.sav'\n",
    "# pickle.dump(logisticRegModel, open(filename, 'wb'))\n",
    "\n",
    "# # 讀取模型\n",
    "# logisticRegModel = pickle.load(open(filename, 'rb'))\n",
    "\n",
    "# # 模型預測\n",
    "# logistic_train_pred = logisticRegModel.predict(X_train_class)\n",
    "# logistic_test_pred = logisticRegModel.predict(X_test) "
   ]
  },
  {
   "cell_type": "code",
   "execution_count": null,
   "id": "688963c7",
   "metadata": {},
   "outputs": [],
   "source": [
    "# SHAP分析\n",
    "# https://shap.readthedocs.io/en/latest/example_notebooks/tabular_examples/linear_models/Sentiment%20Analysis%20with%20Logistic%20Regression.html\n",
    "explainer = shap.Explainer(logisticRegModel, X_train_class, feature_names=featureChName)\n",
    "shap_values = explainer(X_train_class)"
   ]
  },
  {
   "cell_type": "code",
   "execution_count": null,
   "id": "baf68c3d",
   "metadata": {},
   "outputs": [],
   "source": [
    "shap.plots.beeswarm(shap_values, max_display=30)"
   ]
  },
  {
   "cell_type": "code",
   "execution_count": null,
   "id": "063ef103",
   "metadata": {},
   "outputs": [],
   "source": [
    "# 儲存SHAP圖形輸出\n",
    "shap.plots.beeswarm(shap_values, max_display=30, show=False)\n",
    "plt.savefig('shap.png')"
   ]
  },
  {
   "cell_type": "code",
   "execution_count": null,
   "id": "20324980",
   "metadata": {},
   "outputs": [],
   "source": [
    "# 觀察模型如何預測\n",
    "shap_values = explainer(X_test)\n",
    "shap.plots.beeswarm(shap_values, max_display=30)"
   ]
  },
  {
   "cell_type": "code",
   "execution_count": null,
   "id": "5fb0df49",
   "metadata": {
    "scrolled": true
   },
   "outputs": [],
   "source": [
    "ind = 307\n",
    "print(\"預測鄉鎮市區:\", testDataInfo[\"county\"][ind]+testDataInfo[\"town\"][ind])\n",
    "print(\"預測結果:\", \"出生率增加\" if logistic_test_pred[ind] else \"出生率下降\")\n",
    "print(\"實際結果:\", \"出生率增加\" if y_test_class[ind] else \"出生率下降\")\n",
    "shap.plots.force(shap_values[ind])"
   ]
  },
  {
   "cell_type": "markdown",
   "id": "78a05afe",
   "metadata": {},
   "source": [
    "# 決策樹(預測分類)"
   ]
  },
  {
   "cell_type": "code",
   "execution_count": null,
   "id": "64c85951",
   "metadata": {},
   "outputs": [],
   "source": [
    "from sklearn import tree\n",
    "\n",
    "# 建立決策樹模型\n",
    "decisionTreeClassModel = tree.DecisionTreeClassifier()\n",
    "\n",
    "# # 查看 Decision Tree 默認參數值\n",
    "# pprint(decisionTreeClassModel.get_params())\n",
    "\n",
    "# 設定參數組合\n",
    "paramGrid = {\n",
    "    'min_samples_leaf': [1, 3, 5, 10],  # 葉子節點最少樣本數\n",
    "    'max_depth': [3, 5, 7, 10],  # 最大深度\n",
    "}\n",
    "\n",
    "# 設定 Grid Search with Cross Validation\n",
    "grid_search = GridSearchCV(estimator = decisionTreeClassModel, param_grid = paramGrid, \n",
    "                           cv = 5, n_jobs = -1, verbose = 2)\n",
    "\n",
    "# 執行 Grid Search with Cross Validation\n",
    "grid_search.fit(X_train_class, y_train_class)"
   ]
  },
  {
   "cell_type": "code",
   "execution_count": null,
   "id": "97be4e62",
   "metadata": {},
   "outputs": [],
   "source": [
    "# 最佳參數組合\n",
    "print('最佳參數組合:')\n",
    "pprint(grid_search.best_params_)\n",
    "print()\n",
    "\n",
    "# 最佳參數組合訓練的決策樹模型\n",
    "bestDecisionTreeClassModel = grid_search.best_estimator_\n",
    "\n",
    "# 模型預測\n",
    "decisionTreeClass_train_pred = bestDecisionTreeClassModel.predict(X_train_class)\n",
    "decisionTreeClass_test_pred = bestDecisionTreeClassModel.predict(X_test)\n",
    "\n",
    "print('最佳參數組合決策樹分類模型預測train的accuracy:', accuracy_score(y_train_class, decisionTreeClass_train_pred))\n",
    "print('最佳參數組合決策樹分類模型預測test的accuracy:', accuracy_score(y_test_class, decisionTreeClass_test_pred))"
   ]
  },
  {
   "cell_type": "markdown",
   "id": "3aa60983",
   "metadata": {},
   "source": [
    "# 隨機森林分類(預測分類)"
   ]
  },
  {
   "cell_type": "code",
   "execution_count": null,
   "id": "7693e182",
   "metadata": {},
   "outputs": [],
   "source": [
    "from sklearn.ensemble import RandomForestClassifier\n",
    "\n",
    "# 建立隨機森林模型\n",
    "rfClassModel = RandomForestClassifier()\n",
    "\n",
    "# # 查看 Random Forest默認參數值\n",
    "# pprint(rfClassModel.get_params())\n",
    "\n",
    "# 設定參數組合\n",
    "paramGrid = {\n",
    "    'min_samples_leaf': [1, 3, 5, 10],  # 葉子節點最少樣本數\n",
    "    'max_depth': [3, 5, 7, 10],  # 最大深度\n",
    "    'n_estimators': [100, 200, 300, 500]  # 決策樹數量\n",
    "}\n",
    "\n",
    "# 設定 Grid Search with Cross Validation\n",
    "grid_search = GridSearchCV(estimator = rfClassModel, param_grid = paramGrid, \n",
    "                           cv = 5, n_jobs = -1, verbose = 2)\n",
    "\n",
    "# 執行 Grid Search with Cross Validation\n",
    "grid_search.fit(X_train_class, y_train_class)"
   ]
  },
  {
   "cell_type": "code",
   "execution_count": null,
   "id": "cc0f6439",
   "metadata": {},
   "outputs": [],
   "source": [
    "# 最佳參數組合\n",
    "print('最佳參數組合:')\n",
    "pprint(grid_search.best_params_)\n",
    "print()\n",
    "\n",
    "# 最佳參數組合訓練的隨機森林模型\n",
    "bestRfClassModel = grid_search.best_estimator_\n",
    "\n",
    "# 模型預測\n",
    "rfClass_train_pred = bestRfClassModel.predict(X_train_class)\n",
    "rfClass_test_pred = bestRfClassModel.predict(X_test)\n",
    "\n",
    "print('最佳參數組合隨機森林分類模型預測train的accuracy:', accuracy_score(y_train_class, rfClass_train_pred))\n",
    "print('最佳參數組合隨機森林分類模型預測test的accuracy:', accuracy_score(y_test_class, rfClass_test_pred))"
   ]
  },
  {
   "cell_type": "code",
   "execution_count": null,
   "id": "0c80cf47",
   "metadata": {
    "scrolled": true
   },
   "outputs": [],
   "source": [
    "# 繪製特徵解釋能力\n",
    "importance = bestRfClassModel.feature_importances_\n",
    "plotData = pd.DataFrame({'特徵名稱': X_train_raw.columns, '特徵重要程度': importance})\n",
    "fig = px.bar(plotData, x='特徵名稱', y='特徵重要程度')\n",
    "fig.show()"
   ]
  },
  {
   "cell_type": "code",
   "execution_count": null,
   "id": "140b5a8c",
   "metadata": {},
   "outputs": [],
   "source": [
    "# SHAP分析\n",
    "explainer = shap.TreeExplainer(bestRfClassModel)\n",
    "shap_values = explainer.shap_values(X_train_class)"
   ]
  },
  {
   "cell_type": "code",
   "execution_count": null,
   "id": "9c852a24",
   "metadata": {},
   "outputs": [],
   "source": [
    "shap.summary_plot(shap_values[1], X_train_class, feature_names=featureChName)"
   ]
  },
  {
   "cell_type": "markdown",
   "id": "9e9df11a",
   "metadata": {},
   "source": [
    "# SVM(預測分類)"
   ]
  },
  {
   "cell_type": "code",
   "execution_count": null,
   "id": "f0d020f5",
   "metadata": {},
   "outputs": [],
   "source": [
    "from sklearn import svm\n",
    "\n",
    "# 建立SVM分類模型\n",
    "svcModel = svm.SVC()\n",
    "\n",
    "# # 查看 SVC 默認參數值\n",
    "# pprint(svcModel.get_params())\n",
    "\n",
    "# 設定參數組合\n",
    "paramGrid = {\n",
    "    'C': [2**i for i in range(-10, 11, 2)],  # cost值\n",
    "    'gamma': [2**i for i in range(-10, 11, 2)],  # gamma值\n",
    "}\n",
    "\n",
    "# 設定 Grid Search with Cross Validation\n",
    "grid_search = GridSearchCV(estimator = svcModel, param_grid = paramGrid, \n",
    "                           cv = 5, n_jobs = -1, verbose = 2)\n",
    "\n",
    "# 執行 Grid Search with Cross Validation\n",
    "grid_search.fit(X_train_class, y_train_class)"
   ]
  },
  {
   "cell_type": "code",
   "execution_count": null,
   "id": "133b3bd2",
   "metadata": {},
   "outputs": [],
   "source": [
    "# 最佳參數組合\n",
    "print('最佳參數組合:')\n",
    "pprint(grid_search.best_params_)\n",
    "print()\n",
    "\n",
    "# 最佳參數組合訓練的SVC模型\n",
    "bestSvcModel = grid_search.best_estimator_\n",
    "\n",
    "# 模型預測\n",
    "svc_train_pred = bestSvcModel.predict(X_train_class)\n",
    "svc_test_pred = bestSvcModel.predict(X_test)\n",
    "\n",
    "print('最佳參數組合SVC模型預測train的accuracy:', accuracy_score(y_train_class, svc_train_pred))\n",
    "print('最佳參數組合SVC模型預測test的accuracy:', accuracy_score(y_test_class, svc_test_pred))"
   ]
  },
  {
   "cell_type": "code",
   "execution_count": null,
   "id": "bfa53ecb",
   "metadata": {},
   "outputs": [],
   "source": [
    "# # SVM解釋器\n",
    "# explainer = shap.KernelExplainer(bestSvcModel.predict, X_train_class)\n",
    "# shap_values = explainer.shap_values(X_train_class)\n",
    "\n",
    "\n",
    "# svm_explainer.fit(X_train_class)\n",
    "# svm_explanation = svm_explainer.explain(X_train_class)\n",
    "# shap.summary_plot(svm_explanation.shap_values[0], X_train_class, feature_names=featureChName)"
   ]
  },
  {
   "cell_type": "markdown",
   "id": "ce82842e",
   "metadata": {},
   "source": [
    "# 整合預測結果"
   ]
  },
  {
   "cell_type": "code",
   "execution_count": null,
   "id": "897b3c56",
   "metadata": {},
   "outputs": [],
   "source": [
    "# 整合預測值結果\n",
    "predictRegResult = pd.DataFrame({'real': y_test_reg,\n",
    "                                 'reg': reg_test_pred,\n",
    "                                 'decisionTree': bestDecisionTreeReg_test_pred,\n",
    "                                 'randomForest': rfReg_test_pred,\n",
    "                                 'svm': svr_test_pred})\n",
    "predictRegResult = pd.concat([testDataInfo, predictRegResult], axis=1)\n",
    "predictRegResult"
   ]
  },
  {
   "cell_type": "code",
   "execution_count": null,
   "id": "8fef34fd",
   "metadata": {},
   "outputs": [],
   "source": [
    "# 整合預測分類結果\n",
    "predictClassResult = pd.DataFrame({'real': y_test_class,\n",
    "                                   'logistic': logistic_test_pred,\n",
    "                                   'decisionTree': decisionTreeClass_test_pred,\n",
    "                                   'randomForest': rfClass_test_pred,\n",
    "                                   'svm': svc_test_pred})\n",
    "predictClassResult = pd.concat([testDataInfo, predictClassResult], axis=1)\n",
    "predictClassResult"
   ]
  }
 ],
 "metadata": {
  "kernelspec": {
   "display_name": "Python 3",
   "language": "python",
   "name": "python3"
  },
  "language_info": {
   "codemirror_mode": {
    "name": "ipython",
    "version": 3
   },
   "file_extension": ".py",
   "mimetype": "text/x-python",
   "name": "python",
   "nbconvert_exporter": "python",
   "pygments_lexer": "ipython3",
   "version": "3.7.4"
  }
 },
 "nbformat": 4,
 "nbformat_minor": 5
}
